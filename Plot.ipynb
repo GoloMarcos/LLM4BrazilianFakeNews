{
 "cells": [
  {
   "cell_type": "code",
   "execution_count": 2,
   "metadata": {},
   "outputs": [],
   "source": [
    "import ollama\n",
    "import pandas as pd\n",
    "df = pd.read_csv('300-noticias-v2-filtradas.csv')"
   ]
  },
  {
   "cell_type": "code",
   "execution_count": 23,
   "metadata": {},
   "outputs": [
    {
     "name": "stderr",
     "output_type": "stream",
     "text": [
      "/tmp/ipykernel_56684/2761276877.py:2: FutureWarning: Setting an item of incompatible dtype is deprecated and will raise an error in a future version of pandas. Value '[0.3,0.4,0.5]' has dtype incompatible with float64, please explicitly cast to a compatible dtype first.\n",
      "  df.at[0, 'Emb_' + model] = '[0.3,0.4,0.5]'\n"
     ]
    }
   ],
   "source": [
    "for model in ['llama3:8b', 'phi3:14b', 'gemma2:27b', 'qwen2:7b', 'qwen:32b']:    \n",
    "    df.at[0, 'Emb_' + model] = '[0.3,0.4,0.5]'\n",
    "    for index, row in df.iterrows():\n",
    "        df.at[index, 'Emb_' + model] = ollama.embeddings(model=model, prompt=row['Texto_Original'])['embedding']"
   ]
  },
  {
   "cell_type": "code",
   "execution_count": null,
   "metadata": {},
   "outputs": [],
   "source": [
    "from sklearn.manifold import TSNE\n",
    "import seaborn as sns\n",
    "import numpy as np\n",
    "\n",
    "X_embedded = TSNE(n_components=2).fit_transform(np.array(df['Emb_llama3:8b'].to_list()))\n",
    "\n",
    "cps_df = pd.DataFrame(X_embedded)\n",
    "\n",
    "cps_df.loc[:, 'target'] = ['fake' if r['Rótulo'] == 'falso' else 'real' for _,r in df.iterrows()]\n",
    "\n",
    "g = sns.scatterplot(x=0,y=1,data=cps_df, hue=\"target\", legend=True, s=150)\n",
    "g.set(xlabel=None)\n",
    "g.set(ylabel=None)\n",
    "g.figure.set_size_inches(12, 8)\n",
    "fig = g.get_figure()\n",
    "fig.show()"
   ]
  },
  {
   "cell_type": "code",
   "execution_count": 72,
   "metadata": {},
   "outputs": [],
   "source": [
    "import openai\n",
    "\n",
    "openai.api_key = \"\"\n",
    "\n",
    "def get_embedding(text_to_embed):\n",
    "\t# Embed a line of text\n",
    "\tresponse = openai.Embedding.create(\n",
    "    \tmodel= \"text-embedding-3-large\",\n",
    "    \tinput=[text_to_embed]\n",
    "\t)\n",
    "\t# Extract the AI output embedding as a list of floats\n",
    "\tembedding = response[\"data\"][0][\"embedding\"]\n",
    "    \n",
    "\treturn embedding"
   ]
  },
  {
   "cell_type": "code",
   "execution_count": 73,
   "metadata": {},
   "outputs": [],
   "source": [
    "df.at[0, 'Emb_openai'] = 'test'\n",
    "for index, row in df.iterrows():\n",
    "    df.at[index, 'Emb_openai'] = get_embedding(row['Texto_Original'])"
   ]
  }
 ],
 "metadata": {
  "kernelspec": {
   "display_name": "llm_eniac_env",
   "language": "python",
   "name": "python3"
  },
  "language_info": {
   "codemirror_mode": {
    "name": "ipython",
    "version": 3
   },
   "file_extension": ".py",
   "mimetype": "text/x-python",
   "name": "python",
   "nbconvert_exporter": "python",
   "pygments_lexer": "ipython3",
   "version": "3.12.4"
  }
 },
 "nbformat": 4,
 "nbformat_minor": 2
}
