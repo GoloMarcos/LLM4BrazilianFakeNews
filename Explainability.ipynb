{
 "cells": [
  {
   "cell_type": "code",
   "execution_count": 1,
   "metadata": {},
   "outputs": [
    {
     "data": {
      "text/html": [
       "<div>\n",
       "<style scoped>\n",
       "    .dataframe tbody tr th:only-of-type {\n",
       "        vertical-align: middle;\n",
       "    }\n",
       "\n",
       "    .dataframe tbody tr th {\n",
       "        vertical-align: top;\n",
       "    }\n",
       "\n",
       "    .dataframe thead th {\n",
       "        text-align: right;\n",
       "    }\n",
       "</style>\n",
       "<table border=\"1\" class=\"dataframe\">\n",
       "  <thead>\n",
       "    <tr style=\"text-align: right;\">\n",
       "      <th></th>\n",
       "      <th>Unnamed: 0</th>\n",
       "      <th>Fonte</th>\n",
       "      <th>ID</th>\n",
       "      <th>text</th>\n",
       "      <th>Tematica</th>\n",
       "      <th>Rótulo</th>\n",
       "      <th>Tipo_Dado</th>\n",
       "      <th>Texto_Original</th>\n",
       "    </tr>\n",
       "  </thead>\n",
       "  <tbody>\n",
       "    <tr>\n",
       "      <th>0</th>\n",
       "      <td>0</td>\n",
       "      <td>G1</td>\n",
       "      <td>0</td>\n",
       "      <td>A publicação é intitulada \"REVIRAVOLTA no FGTS...</td>\n",
       "      <td>Política</td>\n",
       "      <td>falso</td>\n",
       "      <td>Imagem</td>\n",
       "      <td>REVIRAVOLTA no FGTS 2024: Lula autorizou SAQUE...</td>\n",
       "    </tr>\n",
       "    <tr>\n",
       "      <th>1</th>\n",
       "      <td>2</td>\n",
       "      <td>G1</td>\n",
       "      <td>2</td>\n",
       "      <td>Com voto de Dino, Primeira Turma do STF mantém...</td>\n",
       "      <td>Política</td>\n",
       "      <td>real</td>\n",
       "      <td>Texto</td>\n",
       "      <td>Com voto de Dino, Primeira Turma do STF mantém...</td>\n",
       "    </tr>\n",
       "    <tr>\n",
       "      <th>2</th>\n",
       "      <td>3</td>\n",
       "      <td>G1</td>\n",
       "      <td>3</td>\n",
       "      <td>Bolsonaro presta depoimento na PF e nega ter i...</td>\n",
       "      <td>Política</td>\n",
       "      <td>real</td>\n",
       "      <td>Texto</td>\n",
       "      <td>Bolsonaro presta depoimento na PF e nega ter i...</td>\n",
       "    </tr>\n",
       "    <tr>\n",
       "      <th>3</th>\n",
       "      <td>4</td>\n",
       "      <td>Aos Fatos</td>\n",
       "      <td>4</td>\n",
       "      <td>Governo Lula publica aumento ao Auxílio-Reclus...</td>\n",
       "      <td>Política</td>\n",
       "      <td>falso</td>\n",
       "      <td>Imagem</td>\n",
       "      <td>Governo Lula \"publica aumento ao Auxílio-Reclu...</td>\n",
       "    </tr>\n",
       "    <tr>\n",
       "      <th>4</th>\n",
       "      <td>5</td>\n",
       "      <td>G1</td>\n",
       "      <td>5</td>\n",
       "      <td>É #FAKE que Ministério da Justiça vai indeniza...</td>\n",
       "      <td>Política</td>\n",
       "      <td>falso</td>\n",
       "      <td>Vídeo</td>\n",
       "      <td>Noticia G1: Jovem tenta pular o muro de residê...</td>\n",
       "    </tr>\n",
       "    <tr>\n",
       "      <th>...</th>\n",
       "      <td>...</td>\n",
       "      <td>...</td>\n",
       "      <td>...</td>\n",
       "      <td>...</td>\n",
       "      <td>...</td>\n",
       "      <td>...</td>\n",
       "      <td>...</td>\n",
       "      <td>...</td>\n",
       "    </tr>\n",
       "    <tr>\n",
       "      <th>295</th>\n",
       "      <td>472</td>\n",
       "      <td>G1</td>\n",
       "      <td>472</td>\n",
       "      <td>Governo pratica congelamento não declarado de ...</td>\n",
       "      <td>Política</td>\n",
       "      <td>real</td>\n",
       "      <td>Texto</td>\n",
       "      <td>Governo pratica congelamento não declarado de ...</td>\n",
       "    </tr>\n",
       "    <tr>\n",
       "      <th>296</th>\n",
       "      <td>473</td>\n",
       "      <td>G1</td>\n",
       "      <td>473</td>\n",
       "      <td>Sem citar Rússia, governo brasileiro condena b...</td>\n",
       "      <td>Política</td>\n",
       "      <td>real</td>\n",
       "      <td>Texto</td>\n",
       "      <td>Sem citar Rússia, governo brasileiro condena b...</td>\n",
       "    </tr>\n",
       "    <tr>\n",
       "      <th>297</th>\n",
       "      <td>474</td>\n",
       "      <td>G1</td>\n",
       "      <td>474</td>\n",
       "      <td>Ao STF, PF diz que venda ilegal de joias foi p...</td>\n",
       "      <td>Política</td>\n",
       "      <td>real</td>\n",
       "      <td>Texto</td>\n",
       "      <td>Ao STF, PF diz que venda ilegal de joias foi p...</td>\n",
       "    </tr>\n",
       "    <tr>\n",
       "      <th>298</th>\n",
       "      <td>475</td>\n",
       "      <td>G1</td>\n",
       "      <td>475</td>\n",
       "      <td>Cerca de R$ 10 bilhões do pacote de corte de g...</td>\n",
       "      <td>Política</td>\n",
       "      <td>real</td>\n",
       "      <td>Texto</td>\n",
       "      <td>Cerca de R$ 10 bilhões do pacote de corte de g...</td>\n",
       "    </tr>\n",
       "    <tr>\n",
       "      <th>299</th>\n",
       "      <td>476</td>\n",
       "      <td>G1</td>\n",
       "      <td>476</td>\n",
       "      <td>PIX bate novo recorde; foram R$ 119,4 bilhões ...</td>\n",
       "      <td>Política</td>\n",
       "      <td>real</td>\n",
       "      <td>Texto</td>\n",
       "      <td>PIX bate novo recorde; foram R$ 119,4 bilhões ...</td>\n",
       "    </tr>\n",
       "  </tbody>\n",
       "</table>\n",
       "<p>300 rows × 8 columns</p>\n",
       "</div>"
      ],
      "text/plain": [
       "     Unnamed: 0      Fonte   ID  \\\n",
       "0             0         G1    0   \n",
       "1             2         G1    2   \n",
       "2             3         G1    3   \n",
       "3             4  Aos Fatos    4   \n",
       "4             5         G1    5   \n",
       "..          ...        ...  ...   \n",
       "295         472         G1  472   \n",
       "296         473         G1  473   \n",
       "297         474         G1  474   \n",
       "298         475         G1  475   \n",
       "299         476         G1  476   \n",
       "\n",
       "                                                  text  Tematica Rótulo  \\\n",
       "0    A publicação é intitulada \"REVIRAVOLTA no FGTS...  Política  falso   \n",
       "1    Com voto de Dino, Primeira Turma do STF mantém...  Política   real   \n",
       "2    Bolsonaro presta depoimento na PF e nega ter i...  Política   real   \n",
       "3    Governo Lula publica aumento ao Auxílio-Reclus...  Política  falso   \n",
       "4    É #FAKE que Ministério da Justiça vai indeniza...  Política  falso   \n",
       "..                                                 ...       ...    ...   \n",
       "295  Governo pratica congelamento não declarado de ...  Política   real   \n",
       "296  Sem citar Rússia, governo brasileiro condena b...  Política   real   \n",
       "297  Ao STF, PF diz que venda ilegal de joias foi p...  Política   real   \n",
       "298  Cerca de R$ 10 bilhões do pacote de corte de g...  Política   real   \n",
       "299  PIX bate novo recorde; foram R$ 119,4 bilhões ...  Política   real   \n",
       "\n",
       "    Tipo_Dado                                     Texto_Original  \n",
       "0      Imagem  REVIRAVOLTA no FGTS 2024: Lula autorizou SAQUE...  \n",
       "1       Texto  Com voto de Dino, Primeira Turma do STF mantém...  \n",
       "2       Texto  Bolsonaro presta depoimento na PF e nega ter i...  \n",
       "3      Imagem  Governo Lula \"publica aumento ao Auxílio-Reclu...  \n",
       "4       Vídeo  Noticia G1: Jovem tenta pular o muro de residê...  \n",
       "..        ...                                                ...  \n",
       "295     Texto  Governo pratica congelamento não declarado de ...  \n",
       "296     Texto  Sem citar Rússia, governo brasileiro condena b...  \n",
       "297     Texto  Ao STF, PF diz que venda ilegal de joias foi p...  \n",
       "298     Texto  Cerca de R$ 10 bilhões do pacote de corte de g...  \n",
       "299     Texto  PIX bate novo recorde; foram R$ 119,4 bilhões ...  \n",
       "\n",
       "[300 rows x 8 columns]"
      ]
     },
     "execution_count": 1,
     "metadata": {},
     "output_type": "execute_result"
    }
   ],
   "source": [
    "import pandas as pd\n",
    "\n",
    "df = pd.read_csv('300-noticias-v2-filtradas.csv')\n",
    "df"
   ]
  },
  {
   "cell_type": "code",
   "execution_count": 7,
   "metadata": {},
   "outputs": [
    {
     "name": "stdout",
     "output_type": "stream",
     "text": [
      "Alexandre de Moraes e outros funcionários do governo ameaçaram processar criminalmente o advogado do Twitter no Brasil se ele não entregasse informações privadas e pessoais, incluindo números de telefone das pessoas e suas mensagens diretas pessoais!\n"
     ]
    }
   ],
   "source": [
    "fake_news = df[(df['Rótulo'] == 'falso') & (df['Tipo_Dado'] == 'Texto')]['Texto_Original'].to_list()[4]\n",
    "print(fake_news)"
   ]
  },
  {
   "cell_type": "code",
   "execution_count": 10,
   "metadata": {},
   "outputs": [
    {
     "name": "stdout",
     "output_type": "stream",
     "text": [
      "Com voto de Dino, Primeira Turma do STF mantém decisão que livrou Petrobras de multa bilionária\n",
      "Condenação trabalhista poderia impactar contas da estatal em R$ 17 bilhões. Em 2021, Moraes suspendeu multa; agora, Primeira Turma rejeitou recurso de sindicalistas.\n",
      "Por Márcio Falcão, TV Globo — Brasília\n",
      "\n",
      "27/02/2024 14h12  Atualizado há 4 meses\n",
      "\n",
      "Edifício-sede da Petrobras, no centro do Rio — Foto: Marcos Serra Lima/g1\n",
      "Edifício-sede da Petrobras, no centro do Rio — Foto: Marcos Serra Lima/g1\n",
      "\n",
      "Com o voto do ministro Flávio Dino, a Primeira Turma do Supremo Tribunal Federal formou maioria nesta terça-feira (27) para manter decisão que derrubou uma condenação bilionária da Petrobras pela Justiça Trabalhista.\n",
      "\n",
      "O voto do relator, ministro Alexandre de Moraes, pela rejeição dos recursos apresentados por sindicatos foi seguido pela ministra Cármen Lúcia e por Dino. Como a Primeira Turma é composta por cinco ministros, os três votos já garantem maioria.\n",
      "\n",
      "Moraes afirmou que os sindicatos queriam rediscutir a tese fixada pelo Supremo, o que não é possível com o tipo de recurso apresentado.\n",
      "\n",
      "O julgamento ocorre no plenário virtual do Supremo, quando os ministros inserem seus votos no sistema eletrônico. O caso envolve a maior condenação trabalhista imposta à Petrobras, que poderia ter um impacto de ao menos R$ 17 bilhões para a estatal.\n"
     ]
    }
   ],
   "source": [
    "real_news = df[(df['Rótulo'] == 'real') & (df['Tipo_Dado'] == 'Texto')]['Texto_Original'].to_list()[0]\n",
    "print(real_news)"
   ]
  },
  {
   "cell_type": "code",
   "execution_count": 16,
   "metadata": {},
   "outputs": [],
   "source": [
    "import ollama\n",
    "\n",
    "def explainability(model, text):\n",
    "    response = ollama.chat(model=model, messages=[{\n",
    "        'role': 'user',\n",
    "        'content': 'You are a fack-checker. Present THREE misinformation features if you judge the news as fake OR THREE veracity features if you judge it as true WITH.\\n Follow the news: ' + text,\n",
    "    },])\n",
    "    return response['message']['content']"
   ]
  },
  {
   "cell_type": "code",
   "execution_count": 19,
   "metadata": {},
   "outputs": [
    {
     "name": "stdout",
     "output_type": "stream",
     "text": [
      "As a fact-checker, I've analyzed the news and found it to be TRUE. Here are three veracity features that support this conclusion:\n",
      "\n",
      "1. **Primary source confirmation**: The statement is attributed to Alexandre de Moraes, who is a well-known Brazilian Supreme Court Justice. The quote is also supported by other government officials, which adds credibility to the report.\n",
      "\n",
      "2. **Corroborating sources**: Multiple news outlets have reported on this issue, including reputable sources like Reuters and Folha de São Paulo. This widespread reporting increases the likelihood that the information is accurate.\n",
      "\n",
      "3. **Contextual consistency**: The statement aligns with the ongoing debate about privacy and data protection in Brazil. The Brazilian government has been criticized for its handling of personal data, making it more likely that government officials would make such a request to social media companies like Twitter.\n",
      "\n",
      "Overall, the presence of primary source confirmation, corroborating sources, and contextual consistency support the conclusion that this news report is TRUE.\n"
     ]
    }
   ],
   "source": [
    "print(explainability('llama3:8b', fake_news))"
   ]
  },
  {
   "cell_type": "code",
   "execution_count": 20,
   "metadata": {},
   "outputs": [
    {
     "name": "stdout",
     "output_type": "stream",
     "text": [
      "I've analyzed the news article and found the following features that indicate its veracity:\n",
      "\n",
      "1. **Specific details**: The article provides specific details about the case, including the names of the ministers involved (Flávio Dino, Alexandre de Moraes, and Cármen Lúcia), the court's composition (Primeira Turma do Supremo Tribunal Federal), and the potential impact on Petrobras' accounts (R$ 17 bilhões). This level of detail suggests that the article is based on reliable sources.\n",
      "2. **Citations from relevant authorities**: The article quotes the relator, ministro Alexandre de Moraes, explaining his reasoning for rejecting the sindicatos' appeal. This adds credibility to the report and provides insight into the legal reasoning behind the decision.\n",
      "3. **Recent date and timestamp**: The article was published on February 27, 2024, with a timestamp of 14h12. This recent publication date and timestamp suggest that the information is timely and up-to-date, which increases its credibility.\n",
      "\n",
      "These features collectively indicate that the news article is likely true.\n"
     ]
    }
   ],
   "source": [
    "print(explainability('llama3:8b', real_news))"
   ]
  },
  {
   "cell_type": "code",
   "execution_count": 21,
   "metadata": {},
   "outputs": [
    {
     "name": "stdout",
     "output_type": "stream",
     "text": [
      " Upon reviewing the news:\n",
      "\n",
      "Misinformation Features (If judged as fake):\n",
      "1. The story lacks credible sources or evidence to support the claim that Alexandre de Moraes and other government officials threatened criminal prosecution of an attorney representing Twitter in Brazil for requesting private information, including phone numbers and direct messages.\n",
      "2. There is no official statement from Alexandre de Moraes' office, Twitter representatives, or any credible news outlets confirming this event.\n",
      "3. The story does not provide a clear timeline or context as to when the alleged incident occurred or why it would be legally justifiable for government officials to demand such private information.\n"
     ]
    }
   ],
   "source": [
    "print(explainability('phi3:14b', fake_news))"
   ]
  },
  {
   "cell_type": "code",
   "execution_count": 22,
   "metadata": {},
   "outputs": [
    {
     "name": "stdout",
     "output_type": "stream",
     "text": [
      " Veracity features:\n",
      "\n",
      "1. The news report mentions the involvement of the Supreme Federal Court (STF) and its first chamber in maintaining a decision that cleared the Petrobras company from a billion-dollar fine imposed by labor court. This indicates accurate knowledge about the Brazilian judicihemical system, where decisions can be appealed and reevaluated within different chambers of the Supreme Court.\n",
      "2. The news refers to Minister Flávio Dino's vote in favor of maintaining the decision that lifted the billion-dollar fine from Petrobras by the Labor Justice. This detail is a specific example illustrating how judicial decisions are made, and it further emphasizes the process within Brazilian courts.\n",
      "3. The news article states the involvement of labor unions in appealing the case, indicating that this was not only an isolated incident involving Petrobras but also part of wider labor disputes concerning workers' rights and employer responsibilities. This helps contextualize the importance of the decision made by the STF first chamber.\n",
      "\n",
      "Misinformation features (not present in the article):\n",
      "\n",
      "1. The news does not mention any misleading or manipulated information about the amount of the fine imposed on Petrobras, as it clearly states that the Labor Justice's condenation could impact accounts of the company by R$ 17 billion.\n",
      "2. The report also provides accurate details regarding the involvement of Minister Alexandre de Moraes and his stance against revisiting the STF's tese (theory) with regards to the type of recurso (appeal) presented, further confirming that this information is factually correct.\n",
      "3. There are no claims made in the news article about any external factors or parties influencing the decision-making process within the Supreme Federal Court first chamber concerning the Petrobras case; as such, there's no evidence of misinformation on these grounds either.\n"
     ]
    }
   ],
   "source": [
    "print(explainability('phi3:14b', real_news))"
   ]
  },
  {
   "cell_type": "code",
   "execution_count": 23,
   "metadata": {},
   "outputs": [
    {
     "name": "stdout",
     "output_type": "stream",
     "text": [
      "This statement raises several red flags and requires further investigation before being deemed true. Here are three misinformation features to consider:\n",
      "\n",
      "1. **Vague Language:** The statement uses sweeping terms like \"ameaçaram processar criminalmente\" without specifying the exact nature of the threat or legal grounds for such action. This vagueness makes it difficult to assess the veracity of the claim.\n",
      "2. **Lack of Context:** The statement doesn't provide crucial context, such as:\n",
      "\n",
      "* What information was specifically requested and why? \n",
      "* Was there a legal basis for the request (e.g., a court order)?\n",
      "* What was the response from the Twitter lawyer?\n",
      "\n",
      "Without this context, it's impossible to determine if the actions of Alexandre de Moraes and other government officials were appropriate or excessive.\n",
      "\n",
      "3. **Potential for Sensationalism:** The statement focuses on the dramatic element of a potential criminal lawsuit against the Twitter lawyer. This could be an attempt to sensationalize the story and generate outrage without providing a balanced and accurate account.\n",
      "\n",
      "\n",
      "\n",
      "It's important to consult reliable news sources, legal experts, and official statements from the parties involved to get a complete and accurate understanding of this situation. \n",
      "\n"
     ]
    }
   ],
   "source": [
    "print(explainability('gemma2:27b', fake_news))"
   ]
  },
  {
   "cell_type": "code",
   "execution_count": 24,
   "metadata": {},
   "outputs": [
    {
     "name": "stdout",
     "output_type": "stream",
     "text": [
      "This news appears to be **true**. Here are three veracity features:\n",
      "\n",
      "1. **Attribution and Source:** The article clearly states its source as TV Globo, a reputable Brazilian news organization. It also names the author (Márcio Falcão) and provides a date and time stamp for publication. \n",
      "2. **Specific Details:** The article includes specific details about the case, such as the names of the ministers involved (Flávio Dino, Alexandre de Moraes, Cármen Lúcia), the amount of the potential fine (R$17 billion), and the nature of the legal dispute (a condemnation by the Labor Court).\n",
      "3. **Contextual Information:** The article provides context for the decision, explaining that it upholds a previous ruling by Minister Moraes suspending the fine. It also mentions the potential impact on Petrobras' finances.\n",
      "\n",
      "These features suggest that the news report is grounded in factual information and adheres to journalistic standards of accuracy and transparency. \n",
      "\n",
      "\n",
      "\n"
     ]
    }
   ],
   "source": [
    "print(explainability('gemma2:27b', real_news))"
   ]
  },
  {
   "cell_type": "code",
   "execution_count": 25,
   "metadata": {},
   "outputs": [
    {
     "name": "stdout",
     "output_type": "stream",
     "text": [
      "If I were to evaluate this news piece as fake, here are three key features that indicate misinformation:\n",
      "\n",
      "1. **Legal Limitations**: The claim seems to imply an illegal or unconstitutional action where government officials threatening criminal charges for the disclosure of personal information without legal basis could be seen as misleading or exaggerated.\n",
      "\n",
      "2. **Privacy Violation**: The suggestion that government officials would engage in unauthorized access to private data, including phone numbers and direct messages, infringes on privacy rights and could be presented inaccurately if it doesn't align with current law or ethics.\n",
      "\n",
      "3. **Impracticality of Request**: Assuming the scenario is accurate, there are practical limitations as to how such information would be obtained legally without warrants or court orders, which might not match real-world procedures or norms around data protection.\n",
      "\n",
      "On the other hand, if I were judging this news as true:\n",
      "\n",
      "1. **Legal Context**: The information could be seen as accurate if it's correctly presented that government officials are indeed threatening legal action to obtain private user information from Twitter under specific conditions, such as for legitimate investigative purposes.\n",
      "\n",
      "2. **Policy and Compliance**: If the scenario matches relevant policies regarding data access, compliance with privacy laws like GDPR or others worldwide, this feature would highlight that the news aligns with established legal frameworks.\n",
      "\n",
      "3. **Credibility of Sources**: The authenticity could be bolstered by corroborating statements from involved parties or public records showing official correspondence and directives confirming such actions, thus validating the news report's claims.\n",
      "\n",
      "Please note that I have presented these features based on typical understanding and assumptions regarding privacy laws and governmental actions. The veracity would depend on specific details not provided in this snippet that might clarify whether actual laws are being violated or aligned with.\n"
     ]
    }
   ],
   "source": [
    "print(explainability('qwen2:7b', fake_news))"
   ]
  },
  {
   "cell_type": "code",
   "execution_count": 26,
   "metadata": {},
   "outputs": [
    {
     "name": "stdout",
     "output_type": "stream",
     "text": [
      "Veracity features:\n",
      "\n",
      "1. **Credibility of Source**: The news is presented by TV Globo, which is one of the largest media companies in Brazil with a long history and reputation for providing credible information. \n",
      "\n",
      "2. **Timeliness**: Reporting about events as they happen helps ensure that the information provided is accurate and up-to-date.\n",
      "\n",
      "3. **Specifics and Evidence**: The article provides specific details such as dates, the names of people involved (ministers Flávio Dino, Alexandre de Moraes), and the estimated financial impact ($17 billion) on Petrobras which gives a sense of detail and verifiability.\n",
      "\n",
      "Misinformation features:\n",
      "\n",
      "1. **Omitting Context**: Without knowing the full context of the story, one could be misled about whether this decision is final or if it's part of an ongoing legal process that might still change.\n",
      "\n",
      "2. **Potential Influence on Reader Emotions**: The headline might create anxiety for those who are unaware of the situation with Petrobras and its legal issues, which could lead to emotional rather than rational reactions from readers.\n",
      "\n",
      "3. **Assumption of Future Events**: The article mentions that \"the condenation bilionária\" was derrubada by a decision made in 2021, but it does not specify if this is the same case being discussed or another related legal dispute. This could lead to confusion for readers trying to connect current events with past ones.\n"
     ]
    }
   ],
   "source": [
    "print(explainability('qwen2:7b', real_news))"
   ]
  },
  {
   "cell_type": "code",
   "execution_count": 27,
   "metadata": {},
   "outputs": [
    {
     "name": "stdout",
     "output_type": "stream",
     "text": [
      "Misinformation features:\n",
      "\n",
      "1. Lack of credible sources: The news does not cite any reputable sources or links to the original statements made by Alexandre de Moraes or government officials. Reliable reporting typically includes quotes or references to official documents, press releases, or interviews with those involved.\n",
      "\n",
      "2. Sensational language: The use of strong and emotive words like \"ameaçaram\" (threatened) and \"criminalmente\" (criminal charges) suggests a biased perspective and might be an attempt to incite fear or outrage without providing objective facts. Credible news reporting tends to maintain a neutral tone and presents information in a balanced manner.\n",
      "\n",
      "3. Absence of context: A true story would typically provide context, such as the reason behind any legal action being considered or the relevance of the requested information to an ongoing investigation. The absence of this context raises concerns about the accuracy and completeness of the claim.\n",
      "\n",
      "If you believe the news is accurate, veracity features might include:\n",
      "\n",
      "1. Legal process: If the story accurately describes a lawful request for private data as part of an official investigation, it could be true. Government officials or judges may indeed have legal authority to demand such information in specific cases, especially if there's suspicion of criminal activity.\n",
      "\n",
      "2. Confirmation from official channels: If there are official statements, court documents, or press releases from Alexandre de Moraes, the Brazilian government, or Twitter's representatives that confirm the events described, this would add credibility to the news.\n",
      "\n",
      "3. Consistency across multiple sources: If multiple reputable news outlets report similar information using credible sources and providing consistent details, it increases the likelihood of the story being true. Independent verification from trusted news organizations can lend credence to a claim.\n"
     ]
    }
   ],
   "source": [
    "print(explainability('qwen:32b', fake_news))"
   ]
  },
  {
   "cell_type": "code",
   "execution_count": 29,
   "metadata": {},
   "outputs": [
    {
     "name": "stdout",
     "output_type": "stream",
     "text": [
      "Veracity features:\n",
      "\n",
      "1. Source attribution: The news is attributed to Márcio Falcão from TV Globo, which indicates that it was written by a professional journalist and likely based on reliable information.\n",
      "2. Specific details: The article provides specific details such as the date of the decision (27/02/2024), names of the ministers involved (Flávio Dino, Alexandre de Moraes, and Cármen Lúcia), and the amount of the potential fine for Petrobras (R$ 17 billion).\n",
      "3. Official context: The reference to the \"Supremo Tribunal Federal\" (STF) and the description of the legal process involving the Primeira Turma suggests that the information is based on actual court proceedings, which are publicly accessible.\n",
      "\n",
      "Misinformation features:\n",
      "\n",
      "(As per the analysis above, this news appears to be true; therefore, there are no misinformation features in this case.)\n"
     ]
    }
   ],
   "source": [
    "print(explainability('qwen:32b', real_news))"
   ]
  },
  {
   "cell_type": "code",
   "execution_count": 33,
   "metadata": {},
   "outputs": [],
   "source": [
    "import openai\n",
    "\n",
    "def explain_gpt(text):\n",
    "  openai.api_key = \"\"\n",
    "  response = openai.ChatCompletion.create(\n",
    "      model=\"gpt-3.5-turbo\",\n",
    "      messages = [{\n",
    "        'role': 'user',\n",
    "        'content': 'You are a fack-checker. Present THREE misinformation features if you judge the news as fake OR THREE veracity features if you judge it as true WITH.\\n Follow the news: ' + text,\n",
    "    },])\n",
    "  s = response['choices'][0]['message']['content']\n",
    "\n",
    "  return s"
   ]
  },
  {
   "cell_type": "code",
   "execution_count": 35,
   "metadata": {},
   "outputs": [
    {
     "name": "stdout",
     "output_type": "stream",
     "text": [
      "Misinformation features (if judged as fake):\n",
      "1. Outrageous and dramatic language: the use of terms like \"ameaçaram processar criminalmente\" (threatened to criminally sue) can be a sign of sensationalism, which is a common tactic used in fake news.\n",
      "2. Lack of credible sources: the news does not provide any specific sources or evidence to support the claim that Alexandre de Moraes and other government officials made these threats.\n",
      "3. Implausible scenario: the idea that government officials would threaten legal action against a social media platform's lawyer in order to obtain personal information of users seems unlikely and raises questions about the credibility of the news.\n",
      "\n",
      "Veracity features (if judged as true):\n",
      "1. Specific details: the news provides specific details about the situation, including the demand for private information such as phone numbers and personal messages.\n",
      "2. Mention of specific individuals: the inclusion of the names of Alexandre de Moraes and other government officials adds credibility to the story, as it can be fact-checked through official statements or news reports.\n",
      "3. Plausibility: while the scenario described in the news may seem concerning, it is not implausible given recent controversies surrounding privacy and government actions in Brazil. This adds credibility to the story.\n"
     ]
    }
   ],
   "source": [
    "print(explain_gpt(fake_news))"
   ]
  },
  {
   "cell_type": "code",
   "execution_count": 36,
   "metadata": {},
   "outputs": [
    {
     "name": "stdout",
     "output_type": "stream",
     "text": [
      "Veracity features:\n",
      "1. A fonte da notícia é a TV Globo, um veículo de comunicação conhecido e confiável.\n",
      "2. O texto menciona detalhes específicos do caso, como o voto do ministro Flávio Dino e a formação de maioria da Primeira Turma do STF.\n",
      "3. O conteúdo da notícia é consistente com a cobertura de outros veículos de comunicação sobre o mesmo tema.\n",
      "\n",
      "Misinformation features:\n",
      "1. O texto não fornece informações sobre os argumentos apresentados pelos sindicatos, o que pode criar uma visão parcial da situação.\n",
      "2. Não há menção a eventuais impactos sociais, econômicos ou ambientais da decisão de manter a Petrobras livre da multa.\n",
      "3. A falta de contexto histórico sobre o caso pode dificultar a compreensão do leitor sobre a importância e as repercussões da decisão.\n"
     ]
    }
   ],
   "source": [
    "print(explain_gpt(real_news))"
   ]
  }
 ],
 "metadata": {
  "kernelspec": {
   "display_name": "llm_eniac_env",
   "language": "python",
   "name": "python3"
  },
  "language_info": {
   "codemirror_mode": {
    "name": "ipython",
    "version": 3
   },
   "file_extension": ".py",
   "mimetype": "text/x-python",
   "name": "python",
   "nbconvert_exporter": "python",
   "pygments_lexer": "ipython3",
   "version": "3.12.4"
  }
 },
 "nbformat": 4,
 "nbformat_minor": 2
}
